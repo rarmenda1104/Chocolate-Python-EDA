{
  "cells": [
    {
      "metadata": {
        "_uuid": "cd3d46200a16570dc7d93d1fe6eca254ef7fde87",
        "_cell_guid": "6608d961-42e0-48e1-913f-28581d6964f6"
      },
      "cell_type": "markdown",
      "source": "Hi everyone, this a simple EDA project using python and working with the Chocolate Bar Ratings dataset from [Flavors of Cacao](http://flavorsofcacao.com/index.html). Lets get started :) "
    },
    {
      "metadata": {
        "_uuid": "3d487f028624c045dca4a39ec1e96702f3bc6cfd",
        "collapsed": true,
        "_cell_guid": "d5598006-e5b7-4de2-bcec-4c1e4565ef02",
        "trusted": false
      },
      "cell_type": "code",
      "source": "#Usual imports for data analysis and visualization\nimport pandas as pd\nimport numpy as np\nimport matplotlib.pyplot as plt\nimport seaborn as sns\nsns.set_style('darkgrid')\n%matplotlib inline",
      "execution_count": null,
      "outputs": []
    },
    {
      "metadata": {
        "_uuid": "08895406613345fb51c1e9fa8708ea52e8689ec6",
        "_cell_guid": "9b58b89c-ed38-4a4f-aed6-cba12ec062c7"
      },
      "cell_type": "markdown",
      "source": "Lets read in the dataset and get some information on whats in it."
    },
    {
      "metadata": {
        "_uuid": "e2ce81013089d5807e219e7361fd21c669bb59bd",
        "collapsed": true,
        "_cell_guid": "fa140c37-ccbc-45a4-9322-e28688fa74cf",
        "trusted": false
      },
      "cell_type": "code",
      "source": "df = pd.read_csv('../input/flavors_of_cacao.csv')",
      "execution_count": null,
      "outputs": []
    },
    {
      "metadata": {
        "scrolled": false,
        "_uuid": "053ceffacd8c43e52fd5b86106dfc2a64ac4a055",
        "_cell_guid": "21b98c54-5ab2-41f3-881c-833298639f3d",
        "trusted": false,
        "collapsed": true
      },
      "cell_type": "code",
      "source": "df.info()",
      "execution_count": null,
      "outputs": []
    },
    {
      "metadata": {
        "_uuid": "2687c992461195e9e847dcb7472748b995f36e53",
        "_cell_guid": "59ed28c6-3c01-45a8-8dc1-5a5fff506049",
        "trusted": false,
        "collapsed": true
      },
      "cell_type": "code",
      "source": "df.head()",
      "execution_count": null,
      "outputs": []
    },
    {
      "metadata": {
        "_uuid": "941cc1cd284f782b62d86179642eef1aa6684c47",
        "_cell_guid": "a8e88297-32a4-4563-bc86-17f930cd4d34"
      },
      "cell_type": "markdown",
      "source": "Now lets check to make sure that there aren't a lot of null values in the data"
    },
    {
      "metadata": {
        "scrolled": false,
        "_uuid": "0ed4695aece66e93dc6663e9c4dbf6c049b9dd8d",
        "_cell_guid": "9c4d9903-9d49-4043-a789-f72d2fc246df",
        "trusted": false,
        "collapsed": true
      },
      "cell_type": "code",
      "source": "sns.heatmap(df.isnull(),cmap='plasma')",
      "execution_count": null,
      "outputs": []
    },
    {
      "metadata": {
        "_uuid": "5fae0949fcb29d2a759d1de0d568dccb57ac95eb",
        "_cell_guid": "0850660e-4413-4612-9f80-9ded88163674",
        "trusted": false,
        "collapsed": true
      },
      "cell_type": "code",
      "source": "df.isnull().sum()",
      "execution_count": null,
      "outputs": []
    },
    {
      "metadata": {
        "_uuid": "e11862584b09da55932a39674f12ede8b434452d",
        "_cell_guid": "9068fe4d-3b96-4b2a-bbcb-d21291af727a"
      },
      "cell_type": "markdown",
      "source": "It doesnt look like theres a lot of values so we wont need to clean up too much from it. For now, we'll drop the null values"
    },
    {
      "metadata": {
        "_uuid": "d3b7be777428f1b320f8b77b512666ed887eb082",
        "collapsed": true,
        "_cell_guid": "ac49f073-8e7b-4ffa-b8f0-209ca6c61898",
        "trusted": false
      },
      "cell_type": "code",
      "source": "#Dropping null values from dataset\ndf.dropna(subset=['Broad Bean\\nOrigin'],inplace=True)\ndf.dropna(subset=['Bean\\nType'],inplace=True)",
      "execution_count": null,
      "outputs": []
    },
    {
      "metadata": {
        "_uuid": "2485df85b2a11dd8ac067e5c910fb7b3cde72728",
        "_cell_guid": "99c70de8-f3a2-4e46-bd2d-a6fb2ad2f653"
      },
      "cell_type": "markdown",
      "source": "Also, one thing to note is that the values in the cocoa percent column are strings. Lets convert that into a float for simplified analysis"
    },
    {
      "metadata": {
        "_uuid": "e3adc9472343aabb9554f1f924c0aed54053b383",
        "collapsed": true,
        "_cell_guid": "0225a15e-59b7-4f29-9a70-d76bf2ad78e6",
        "trusted": false
      },
      "cell_type": "code",
      "source": "#Convert Cocoa Percent from string to float\ndf['Cocoa\\nPercent'] = df['Cocoa\\nPercent'].apply(lambda num: float(num.strip('%'))/100)",
      "execution_count": null,
      "outputs": []
    },
    {
      "metadata": {
        "_uuid": "1c40860c5c48c6335e9324d441478bd92809d24e",
        "_cell_guid": "10040f63-4f00-4635-a74e-d08f14b54104"
      },
      "cell_type": "markdown",
      "source": "Now, lets explore the data with some simple visualizations"
    },
    {
      "metadata": {
        "scrolled": false,
        "_uuid": "7fc9807926e68ba518813bac0a5ce593856b06ee",
        "_cell_guid": "695e703d-41f0-408e-9ae3-332757641efa",
        "trusted": false,
        "collapsed": true
      },
      "cell_type": "code",
      "source": "#plot number of chocolates from top 20 Companies \nplt.figure(figsize=(12,6))\ndf['Company\\xa0\\n(Maker-if known)'].value_counts().head(20).plot.bar(color = 'crimson')\nplt.title('Top 20 Companies')\nplt.ylabel('Number of Chocolate brands')\nplt.xlabel('Company',labelpad = 20)\nplt.tight_layout()",
      "execution_count": null,
      "outputs": []
    },
    {
      "metadata": {
        "_uuid": "8884fdca132bb04e61f6b1a3b0708a9f3d810be8",
        "_cell_guid": "1170e218-6cec-4bc7-b10e-194666caf6d0",
        "trusted": false,
        "collapsed": true
      },
      "cell_type": "code",
      "source": "df['Company\\xa0\\n(Maker-if known)'].value_counts().head(5)",
      "execution_count": null,
      "outputs": []
    },
    {
      "metadata": {
        "_uuid": "bc3982e67b89d117ac7af2c75836d879fddb9fcc",
        "_cell_guid": "b6e34e25-1ab2-49b4-9938-fcd885aebbed"
      },
      "cell_type": "markdown",
      "source": "* Soma has the most chocolate bars in the dataset with 46 different bars.\n* The other 14 companies have around the same number of bars."
    },
    {
      "metadata": {
        "scrolled": false,
        "_uuid": "24d035d29b7c801dcdc159f4bca6aea39c8dbfce",
        "_cell_guid": "5846de7f-0bad-4e5e-8a58-938d76d6effa",
        "trusted": false,
        "collapsed": true
      },
      "cell_type": "code",
      "source": "#plot top 15 Company location countries\nplt.figure(figsize=(12,6))\ndf['Company\\nLocation'].value_counts().head(15).plot.bar(color = 'green')\nplt.title('Top 15 Company Locations')\nplt.xlabel('Company Location Country', labelpad = 20)\nplt.ylabel('Number of Companies')\nplt.tight_layout()",
      "execution_count": null,
      "outputs": []
    },
    {
      "metadata": {
        "_uuid": "6af294a1796cf3ab386ded51755119d7b7532c1d",
        "_cell_guid": "18cbe77b-eb81-4475-a84d-a42034baa17c"
      },
      "cell_type": "markdown",
      "source": "* Companies are overwhelmingly based in the US as opposed to other countries, with over 750 different companies!\n* European countries are also very dominant in terms of company locations, however the origin of the bean will most likely be very different from that"
    },
    {
      "metadata": {
        "_uuid": "50af67222465fc88162c598b79e6ab173bd72ab6",
        "_cell_guid": "ec76c5ed-97f7-40c6-bc17-385d40953743"
      },
      "cell_type": "markdown",
      "source": "Lets do a pairplot to quickly visualize any relationships with any of our continuous data"
    },
    {
      "metadata": {
        "_uuid": "495af1ebbb20040e549858cdce011730a0016662",
        "_cell_guid": "73375a71-dbd3-4922-bbfc-c9225bc96f1a",
        "trusted": false,
        "collapsed": true
      },
      "cell_type": "code",
      "source": "#Pairplot of columns for further EDA\nsns.pairplot(df)",
      "execution_count": null,
      "outputs": []
    },
    {
      "metadata": {
        "_uuid": "f1a246f0a4b108e2b55136dc1c336647e90d0bed",
        "_cell_guid": "cb0d0875-836a-4eb0-9c90-218eb92627b3"
      },
      "cell_type": "markdown",
      "source": "Some things to note:\n* REF distribution doesnt seem to change as time goes on. However as review dates increase, the REF number increases as well. This just shows that REF is just an incremental number given to reviews as they come in and most likely has little to no impact on any further EDA.\n* Ratings follow a left tailed distribution, with the mean floating around 3.5\n* Cocoa Percent has a normal distribution, showing that most chocolates tend to be around 70% cacao\n* Reviews increase as time goes on, perhaps due to internet becoming more and more mainstream"
    },
    {
      "metadata": {
        "_uuid": "8db53c0fbde2030b504e48cdead010318d536efe",
        "_cell_guid": "971eade3-06d8-4d7a-b55b-4a362b913f29"
      },
      "cell_type": "markdown",
      "source": "With the observations made above, lets explore the data further and see if what we assesed is accurate."
    },
    {
      "metadata": {
        "_uuid": "c8abd4c97420b1f4ad70ea18c693b72f27d5b475",
        "_cell_guid": "3e29ac7a-9f21-43f4-acbe-038cc64913ea",
        "trusted": false,
        "collapsed": true
      },
      "cell_type": "code",
      "source": "#Distribution of Review Dates for chocolates\nplt.figure(figsize=(10,5))\nsns.distplot(df['Review\\nDate'], bins=30,kde=False)\nplt.ylabel('Number of Reviews')\nplt.title('Reviews Over Time')\nplt.tight_layout()",
      "execution_count": null,
      "outputs": []
    },
    {
      "metadata": {
        "_uuid": "ede0894ea1d182a84647a30b96cfb339e8a853a6",
        "_cell_guid": "8fb76748-99e1-483c-ac10-2d741b239a37"
      },
      "cell_type": "markdown",
      "source": "* Number of reviews increase over time on average, with the peak being 2015"
    },
    {
      "metadata": {
        "scrolled": false,
        "_uuid": "cd6d93099cc634cb12582ca50220789e1321b9f1",
        "_cell_guid": "a2ae74bf-4907-4e52-adb5-c4afb13cf139",
        "trusted": false,
        "collapsed": true
      },
      "cell_type": "code",
      "source": "#Distribution of rating across dataset\nplt.figure(figsize=(10,5))\nsns.distplot(df['Rating'],bins=20,color = 'purple')\nplt.title('Distribution of Ratings')\nplt.tight_layout()",
      "execution_count": null,
      "outputs": []
    },
    {
      "metadata": {
        "scrolled": true,
        "_uuid": "4227fafc1e378c2e7f01a033af6a861cd2fa50ad",
        "_cell_guid": "4481efe6-222a-4595-bda5-7f26d06da325",
        "trusted": false,
        "collapsed": true
      },
      "cell_type": "code",
      "source": "df['Rating'].describe()",
      "execution_count": null,
      "outputs": []
    },
    {
      "metadata": {
        "_uuid": "87b1f467635ec1cfc6e4504ac8aaef3da231f6ca",
        "_cell_guid": "ec2a6159-bd74-428d-9fe6-e7f816ef74ed"
      },
      "cell_type": "markdown",
      "source": "* Ratings are normally distributed, with the mean around 3.2"
    },
    {
      "metadata": {
        "_uuid": "2522dbd98dff03d0aa8f206fab975e2762cc078b",
        "_cell_guid": "c5addb2a-6f71-4af5-8501-efae58e92adb"
      },
      "cell_type": "markdown",
      "source": "We saw that we had some bars that were rated at 1 and at 5 in the graphs above. Lets see what chocolates had those ratings."
    },
    {
      "metadata": {
        "scrolled": false,
        "_uuid": "e1505a960db59ae67d31ab24fe226d48c538aa0a",
        "_cell_guid": "f6455f01-41cc-47d9-a56d-bb9714f8211f",
        "trusted": false,
        "collapsed": true
      },
      "cell_type": "code",
      "source": "#Outliers, showing chocolates with ratings of 5 and 1\nrating_outliers = df[(df['Rating'] == 5) | (df['Rating']==1)]\nrating_outliers",
      "execution_count": null,
      "outputs": []
    },
    {
      "metadata": {
        "scrolled": true,
        "_uuid": "433d3131597a52a4636aa64e71f64a7a0e8a670a",
        "_cell_guid": "5442af33-e7d6-403a-bee3-71aad973852b",
        "trusted": false,
        "collapsed": true
      },
      "cell_type": "code",
      "source": "rating_outliers.describe()",
      "execution_count": null,
      "outputs": []
    },
    {
      "metadata": {
        "_uuid": "fe6fa463aac7d9efadc7127c6ab9a4406474772e",
        "_cell_guid": "8d568203-fc93-44e5-9308-7aa61ee77d81",
        "trusted": false,
        "collapsed": true
      },
      "cell_type": "code",
      "source": "df[df['Company\\xa0\\n(Maker-if known)'] =='Amedei']",
      "execution_count": null,
      "outputs": []
    },
    {
      "metadata": {
        "_uuid": "f28400602e98fbc7aaa7dfc24b4eeea8d8a03a8f",
        "_cell_guid": "967a88e2-31aa-4b8a-a84b-6f500d1ab99c"
      },
      "cell_type": "markdown",
      "source": "* There are only four bars that have a 1 rating and two bars that have a perfect 5 rating\n* The cocoa percentage doesnt seem to matter as much, since all but one have around 70%\n* Amedei had mostly good reviews the year they got 5.0 ratings, perhaps they had a really good year"
    },
    {
      "metadata": {
        "_uuid": "83a82f53ebcc042f36b7abf0a40f407953f753e7",
        "_cell_guid": "6bf0b65b-63a0-4752-9674-b65f9cc58a18"
      },
      "cell_type": "markdown",
      "source": "Lets look at the distrubution of cocoa ratings now"
    },
    {
      "metadata": {
        "_uuid": "bf434eb1f7a08198e087645fe2f0fc09a8d6da3b",
        "_cell_guid": "65d7d091-c25f-4119-8979-b67d6c7f627c",
        "trusted": false,
        "collapsed": true
      },
      "cell_type": "code",
      "source": "#Plot distribution of cocoa percentage\nplt.figure(figsize = (12,6))\nsns.distplot(df['Cocoa\\nPercent'],bins=25,color='blue')",
      "execution_count": null,
      "outputs": []
    },
    {
      "metadata": {
        "scrolled": false,
        "_uuid": "0ead1a4babf3c8267d0f5b4a172c13ec84d36fd4",
        "_cell_guid": "96613fe7-4a23-42d1-a148-3c33d9ba585e",
        "trusted": false,
        "collapsed": true
      },
      "cell_type": "code",
      "source": "#Countplot of top 10 cocoa percentages\nplt.figure(figsize=(12,6))\ndf['Cocoa\\nPercent'].value_counts().head(10).plot.bar()\nplt.tight_layout()\nplt.title('Distribution of Top 10 Cocoa Percentages' )\nplt.xlabel('Cocoa Percent')\nplt.ylabel('Count')",
      "execution_count": null,
      "outputs": []
    },
    {
      "metadata": {
        "_uuid": "0b9c9d8c9a48c53400378bf5f0c10d82f230d656",
        "_cell_guid": "a23b4bc0-5b42-4b0e-9719-4094e5f5b186"
      },
      "cell_type": "markdown",
      "source": "* Most bars have cocoa percentages around 70%\n* Only a few bars have 100% cocoa, perhaps not as much of a market for them."
    },
    {
      "metadata": {
        "_uuid": "6fbb40508d9a47fbdc187bb252bfd501e72a8850",
        "_cell_guid": "879924bd-8274-49e4-b5aa-bb39ada946af"
      },
      "cell_type": "markdown",
      "source": "Now lets look at some of the top ratings and their company locations to see if location matters."
    },
    {
      "metadata": {
        "scrolled": false,
        "_uuid": "cbce635d868f041ca8cd9e50df8b9798f82866d1",
        "_cell_guid": "7bcb3a24-a1e8-41f9-b607-8c47603898c7",
        "trusted": false,
        "collapsed": true
      },
      "cell_type": "code",
      "source": "#countplot of ratings relative to company locations for top 200 ratings\ntop_countries = df[(df['Rating'] >= 3.75) & (df['Rating'] <= 5.0)]\ngrouped = top_countries.sort_values('Rating', ascending=False).head(200)\n\nplt.figure(figsize=(19,7))\nsns.countplot('Company\\nLocation',hue = 'Rating', data=grouped)\nplt.legend(title = 'Rating',loc='right', bbox_to_anchor=(1, .9))\nplt.tight_layout()",
      "execution_count": null,
      "outputs": []
    },
    {
      "metadata": {
        "_uuid": "af440fb6abbead1e6f7e9b34954b865aeb2b1f00",
        "_cell_guid": "a559a7b4-c66d-42a8-9594-a9520c1d1f3d"
      },
      "cell_type": "markdown",
      "source": "* USA seems to have the most above average ratings amongst all countries, however this could be due to the fact that they have a larger amount of bars in the survey. We'll look at average ratings in a bit.\n* Although France has 5 times fewer bars in the dataset than the US, they have almost as many 4.0 ratings. Seems like if you want good chocolate, France is a safer choice.\n* Italy is the only one with a 5.0 rating despite having similar number of above average ratings as other European nations."
    },
    {
      "metadata": {
        "_uuid": "d0ea9eb23c137d192c8df842f0231e11c3672354",
        "collapsed": true,
        "_cell_guid": "2ec0baff-9c2d-41f3-bb5f-e9fa29d5b768",
        "trusted": false
      },
      "cell_type": "code",
      "source": "#Make dataframes showing USA and France ratings\nFR = df[(df['Rating'] >= 3.75) & (df['Rating'] <= 5.0) & (df['Company\\nLocation'] =='France')]\nUSA = df[(df['Rating'] >= 3.75) & (df['Rating'] <= 5.0) & (df['Company\\nLocation'] =='U.S.A.')]",
      "execution_count": null,
      "outputs": []
    },
    {
      "metadata": {
        "_uuid": "228cddcd27ac73e204114d38ca5d5937a9d71bd0",
        "_cell_guid": "ab990907-7e3d-4514-9849-f88842d61d3d",
        "trusted": false,
        "collapsed": true
      },
      "cell_type": "code",
      "source": "print('French Average Rating : '+ str(FR['Rating'].mean()))\nprint('U.S.A. Average Rating : '+ str(USA['Rating'].mean()))",
      "execution_count": null,
      "outputs": []
    },
    {
      "metadata": {
        "_uuid": "5e22b34e033af0b18871dd918f0123d0ae0d8db1",
        "_cell_guid": "96f5080e-0d45-4dde-aba5-031ae009afba"
      },
      "cell_type": "markdown",
      "source": "* Based on the data, French based companies on average have higher ratings than U.S.A. based counterparts"
    },
    {
      "metadata": {
        "_uuid": "e7be8273979c2f1452b6c7667ab91b65871d99cd",
        "_cell_guid": "17f5148f-aebc-4182-993c-b252a21ff689"
      },
      "cell_type": "markdown",
      "source": "Now lets look at the bean origin and see what insights we can gather from it. Before we look at it, there were some null values in the data set so we'll clean up the data first and then make observations."
    },
    {
      "metadata": {
        "_uuid": "e4d206df06f71a4968d43cb78fe58619aef438a1",
        "collapsed": true,
        "_cell_guid": "e0b6afc9-176a-4094-afbe-04a86f1da46a",
        "trusted": false
      },
      "cell_type": "code",
      "source": "#Converts xa0 unicode to null values\ndef null_converter(x):\n    if x == '\\xa0':\n        return None\n    else:\n        return x\n\ndf['Broad Bean\\nOrigin'] = df['Broad Bean\\nOrigin'].apply(null_converter)",
      "execution_count": null,
      "outputs": []
    },
    {
      "metadata": {
        "_uuid": "253cb78763a09579c021d5871e9c0faf7a304c83",
        "_cell_guid": "03b7e01b-276d-4eec-bddc-646fbb38414c",
        "trusted": false,
        "collapsed": true
      },
      "cell_type": "code",
      "source": "#Drops null vallues from dataset\ndf.dropna(subset=['Broad Bean\\nOrigin'],inplace=True)\n\n#Dropped 75 values from dataset\ndf.info()",
      "execution_count": null,
      "outputs": []
    },
    {
      "metadata": {
        "_uuid": "b394e260b87b3e2b30fa92a9fd845ccee2f8d4bb",
        "_cell_guid": "054b3a7f-297a-457c-b93b-3dcedc1adb48"
      },
      "cell_type": "markdown",
      "source": "Now that we cleaned up the broad bean origin column a bit, lets explore the origin country data."
    },
    {
      "metadata": {
        "scrolled": false,
        "_uuid": "b51c3aeb11534b9625b9b74bafbf04349fba873d",
        "_cell_guid": "e4ed9df8-2424-4976-afc2-e53b27519cfd",
        "trusted": false,
        "collapsed": true
      },
      "cell_type": "code",
      "source": "plt.figure(figsize=(14,6))\ndf['Broad Bean\\nOrigin'].value_counts().head(15).plot.bar()\nplt.tight_layout()\nplt.title('Top 15 Bean Origin Countries')\nplt.xlabel('Bean Origin')",
      "execution_count": null,
      "outputs": []
    },
    {
      "metadata": {
        "_uuid": "cde3456cdbd227ee929008af50da5d3fc01f3e96",
        "_cell_guid": "3015d09e-6541-428e-ad30-6bb4f56cb806"
      },
      "cell_type": "markdown",
      "source": "* Majority of beans originate from South American countries where Venezuela, Ecuador, and Peru lead the pack"
    },
    {
      "metadata": {
        "_uuid": "c882d69ffab0e612eb750562c378533b2a075ddd",
        "collapsed": true,
        "_cell_guid": "6a860ee4-89c0-47f3-8ccf-d13cc2442d09",
        "trusted": false
      },
      "cell_type": "code",
      "source": "top_Origins = df[(df['Broad Bean\\nOrigin'] == 'Venezuela')| (df['Broad Bean\\nOrigin'] == 'Ecuador')|\n                (df['Broad Bean\\nOrigin'] == 'Peru')| (df['Broad Bean\\nOrigin'] == 'Madagascar')|\n                (df['Broad Bean\\nOrigin'] == 'Dominican Republic')| (df['Broad Bean\\nOrigin'] == 'Nicaragua')]",
      "execution_count": null,
      "outputs": []
    },
    {
      "metadata": {
        "_uuid": "97b04b8551a226a347a0acd3273f678d0046408e",
        "_cell_guid": "e2abbfe3-1afa-4851-98c5-5ee974eaec28",
        "trusted": false,
        "collapsed": true
      },
      "cell_type": "code",
      "source": "plt.figure(figsize=(12,5))\nsns.boxplot(x='Broad Bean\\nOrigin',y= 'Rating', data=top_Origins)",
      "execution_count": null,
      "outputs": []
    },
    {
      "metadata": {
        "_uuid": "64235227216e594744b760c7148eb30cb8c30b5a",
        "_cell_guid": "f3d40b74-0dc9-4389-a6f8-7120141367f0"
      },
      "cell_type": "markdown",
      "source": "* Ratings seem to be pretty similar amongst the origin countries with the most bars in the dataset\n* Venezuela seems to have slightly higher ratings than the other countries, with it being the only country with a 5.0 rating"
    },
    {
      "metadata": {
        "_uuid": "7e2f5584358a40dd37769666a87aaf0356db2146",
        "_cell_guid": "c695eb64-c13b-4ca0-87d5-f5d3cc9b9f53"
      },
      "cell_type": "markdown",
      "source": "Thsi all leads into another question about the data: is there any correlation between cocoa percentage and rating?"
    },
    {
      "metadata": {
        "_uuid": "bdc10a45aa73a8e60e8b353061a5a634e4988985",
        "_cell_guid": "59679c27-1446-4658-8d29-f91ceae95dac",
        "trusted": false,
        "collapsed": true
      },
      "cell_type": "code",
      "source": "sns.jointplot(x = 'Cocoa\\nPercent', y = 'Rating', data = df)",
      "execution_count": null,
      "outputs": []
    },
    {
      "metadata": {
        "scrolled": true,
        "_uuid": "ba5190fb40239da4c853bf1050552eec4c422a75",
        "_cell_guid": "6047e51c-b517-4964-884f-99de5108f195",
        "trusted": false,
        "collapsed": true
      },
      "cell_type": "code",
      "source": "#Correlation of Rating and Cocoa Percent, also adding Review Date and REF out of curiosity\ndf_rating_correlation = df[['Rating','Cocoa\\nPercent','REF','Review\\nDate']]\n\n#Heatmap of correlation\nsns.heatmap(df_rating_correlation.corr(),annot=True)\n",
      "execution_count": null,
      "outputs": []
    },
    {
      "metadata": {
        "_uuid": "bd58c6f55ecc672d7c82547d59af90fe3295f15e",
        "_cell_guid": "385695c7-5d83-42cd-ad2e-39a2ebd05d6f"
      },
      "cell_type": "markdown",
      "source": "* No correlation at all between the ratings and the cocoa percentages!\n* As shown before, REF and Review date are positively correlated"
    },
    {
      "metadata": {
        "_uuid": "de796deb824d64c284b0bc23d61a76d925f6dab3",
        "_cell_guid": "b48f74e8-434f-46d9-819f-9242c72fba0b"
      },
      "cell_type": "markdown",
      "source": "Thanks for taking the time to read through my analysis! Any feedback is always appreciated :) "
    }
  ],
  "metadata": {
    "kernelspec": {
      "display_name": "Python 3",
      "language": "python",
      "name": "python3"
    },
    "language_info": {
      "pygments_lexer": "ipython3",
      "nbconvert_exporter": "python",
      "version": "3.6.4",
      "file_extension": ".py",
      "codemirror_mode": {
        "version": 3,
        "name": "ipython"
      },
      "name": "python",
      "mimetype": "text/x-python"
    }
  },
  "nbformat": 4,
  "nbformat_minor": 1
}
